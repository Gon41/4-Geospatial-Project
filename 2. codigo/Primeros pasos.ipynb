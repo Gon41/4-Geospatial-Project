{
 "cells": [
  {
   "cell_type": "markdown",
   "metadata": {},
   "source": [
    "# Proyecto -geospatial-data-project-"
   ]
  },
  {
   "cell_type": "markdown",
   "metadata": {},
   "source": [
    "#### Importo las librerias necesarias"
   ]
  },
  {
   "cell_type": "code",
   "execution_count": 202,
   "metadata": {},
   "outputs": [],
   "source": [
    "from pymongo import MongoClient\n",
    "import requests\n",
    "\n",
    "from dotenv import load_dotenv\n",
    "import os\n",
    "import re\n",
    "import json, requests\n",
    "import pandas as pd\n",
    "from pandas.io.json import json_normalize\n",
    "from pymongo import MongoClient\n",
    "import requests\n",
    "import folium"
   ]
  },
  {
   "cell_type": "markdown",
   "metadata": {},
   "source": [
    "#### Compruebo que no hay problemas de conexión"
   ]
  },
  {
   "cell_type": "code",
   "execution_count": 14,
   "metadata": {},
   "outputs": [
    {
     "data": {
      "text/plain": [
       "MongoClient(host=['localhost:27017'], document_class=dict, tz_aware=False, connect=True)"
      ]
     },
     "execution_count": 14,
     "metadata": {},
     "output_type": "execute_result"
    }
   ],
   "source": [
    "client = MongoClient()\n",
    "client"
   ]
  },
  {
   "cell_type": "markdown",
   "metadata": {},
   "source": [
    "#### Asigno la conexión de la BBDD a una variable (para hacer más sencillo su llamamiento)"
   ]
  },
  {
   "cell_type": "code",
   "execution_count": 15,
   "metadata": {
    "scrolled": true
   },
   "outputs": [
    {
     "data": {
      "text/plain": [
       "Database(MongoClient(host=['localhost:27017'], document_class=dict, tz_aware=False, connect=True), 'companies')"
      ]
     },
     "execution_count": 15,
     "metadata": {},
     "output_type": "execute_result"
    }
   ],
   "source": [
    "db = client.get_database(\"companies\")\n",
    "db"
   ]
  },
  {
   "cell_type": "code",
   "execution_count": 110,
   "metadata": {
    "scrolled": true
   },
   "outputs": [
    {
     "data": {
      "text/plain": [
       "True"
      ]
     },
     "execution_count": 110,
     "metadata": {},
     "output_type": "execute_result"
    }
   ],
   "source": [
    "load_dotenv()"
   ]
  },
  {
   "cell_type": "markdown",
   "metadata": {},
   "source": [
    "#### Llamo a las claves desde el archivo .env"
   ]
  },
  {
   "cell_type": "code",
   "execution_count": 111,
   "metadata": {},
   "outputs": [],
   "source": [
    "fq_client_id = os.getenv(\"FQ_CLIENT_ID\")\n",
    "fq_client_secret = os.getenv(\"FQ_CLIENT_SECRET\")"
   ]
  },
  {
   "cell_type": "markdown",
   "metadata": {},
   "source": [
    "### Selección del primer criterio"
   ]
  },
  {
   "cell_type": "code",
   "execution_count": null,
   "metadata": {},
   "outputs": [],
   "source": [
    "# Según la página https://gruposaglo.com/2019/05/23/las-mejores-escuelas-de-diseno-en-los-estados-unidos/\n",
    "# el Instituto Pratt y el Instituto de tecnología de Rochester se encuentran entre los mejores centros de EEUU (ambos en el esstado de New York)\n",
    "\n",
    "coor_pratt = (40.691720, -73.962987)\n",
    "\n",
    "coor_roch = (43.084810, -77.674134)\n"
   ]
  },
  {
   "cell_type": "markdown",
   "metadata": {},
   "source": [
    "#### Busco en mongoDB las oficinas en las ciudades cercanas al estado de New York (Boston, Philadelphia y New York)"
   ]
  },
  {
   "cell_type": "code",
   "execution_count": 41,
   "metadata": {},
   "outputs": [],
   "source": [
    "res = list(db.companies.find( { \"$or\": [ { \"offices.city\": \"Boston\" }, { \"offices.city\": \"Philadelphia\" }, { \"offices.city\": \"New York\" } ] }, {\"offices.city\":1, \"offices.country_cod\":1}))"
   ]
  },
  {
   "cell_type": "code",
   "execution_count": 47,
   "metadata": {
    "scrolled": true
   },
   "outputs": [
    {
     "data": {
      "text/plain": [
       "935"
      ]
     },
     "execution_count": 47,
     "metadata": {},
     "output_type": "execute_result"
    }
   ],
   "source": [
    "len(res)"
   ]
  },
  {
   "cell_type": "markdown",
   "metadata": {},
   "source": [
    "#### Busco cuantas empresas hay en New York (New York)"
   ]
  },
  {
   "cell_type": "code",
   "execution_count": 55,
   "metadata": {},
   "outputs": [],
   "source": [
    "nw = list(db.companies.find({\"offices.city\": \"New York\" }))"
   ]
  },
  {
   "cell_type": "code",
   "execution_count": 56,
   "metadata": {},
   "outputs": [
    {
     "data": {
      "text/plain": [
       "832"
      ]
     },
     "execution_count": 56,
     "metadata": {},
     "output_type": "execute_result"
    }
   ],
   "source": [
    "len(nw)"
   ]
  },
  {
   "cell_type": "code",
   "execution_count": 354,
   "metadata": {
    "scrolled": false
   },
   "outputs": [
    {
     "data": {
      "text/plain": [
       "832"
      ]
     },
     "execution_count": 354,
     "metadata": {},
     "output_type": "execute_result"
    }
   ],
   "source": [
    "len(nw)"
   ]
  },
  {
   "cell_type": "code",
   "execution_count": 162,
   "metadata": {},
   "outputs": [
    {
     "ename": "TypeError",
     "evalue": "list indices must be integers or slices, not str",
     "output_type": "error",
     "traceback": [
      "\u001b[1;31m---------------------------------------------------------------------------\u001b[0m",
      "\u001b[1;31mTypeError\u001b[0m                                 Traceback (most recent call last)",
      "\u001b[1;32m<ipython-input-162-fcf0c8107c2a>\u001b[0m in \u001b[0;36m<module>\u001b[1;34m\u001b[0m\n\u001b[1;32m----> 1\u001b[1;33m \u001b[0memp_name\u001b[0m \u001b[1;33m=\u001b[0m \u001b[0mnw\u001b[0m\u001b[1;33m[\u001b[0m\u001b[1;34m\"response\"\u001b[0m\u001b[1;33m]\u001b[0m\u001b[1;33m[\u001b[0m\u001b[1;34m\"groups\"\u001b[0m\u001b[1;33m]\u001b[0m\u001b[1;33m[\u001b[0m\u001b[1;36m0\u001b[0m\u001b[1;33m]\u001b[0m\u001b[1;33m[\u001b[0m\u001b[1;34m\"items\"\u001b[0m\u001b[1;33m]\u001b[0m\u001b[1;33m[\u001b[0m\u001b[1;36m0\u001b[0m\u001b[1;33m]\u001b[0m\u001b[1;33m[\u001b[0m\u001b[1;34m\"venue\"\u001b[0m\u001b[1;33m]\u001b[0m\u001b[1;33m[\u001b[0m\u001b[1;34m\"name\"\u001b[0m\u001b[1;33m]\u001b[0m\u001b[1;33m\u001b[0m\u001b[1;33m\u001b[0m\u001b[0m\n\u001b[0m\u001b[0;32m      2\u001b[0m \u001b[0memp_localitation\u001b[0m \u001b[1;33m=\u001b[0m \u001b[0mnw\u001b[0m\u001b[1;33m[\u001b[0m\u001b[1;34m\"response\"\u001b[0m\u001b[1;33m]\u001b[0m\u001b[1;33m[\u001b[0m\u001b[1;34m\"groups\"\u001b[0m\u001b[1;33m]\u001b[0m\u001b[1;33m[\u001b[0m\u001b[1;36m0\u001b[0m\u001b[1;33m]\u001b[0m\u001b[1;33m[\u001b[0m\u001b[1;34m\"items\"\u001b[0m\u001b[1;33m]\u001b[0m\u001b[1;33m[\u001b[0m\u001b[1;36m0\u001b[0m\u001b[1;33m]\u001b[0m\u001b[1;33m[\u001b[0m\u001b[1;34m\"venue\"\u001b[0m\u001b[1;33m]\u001b[0m\u001b[1;33m[\u001b[0m\u001b[1;34m\"location\"\u001b[0m\u001b[1;33m]\u001b[0m\u001b[1;33m[\u001b[0m\u001b[1;34m\"address\"\u001b[0m\u001b[1;33m]\u001b[0m\u001b[1;33m\u001b[0m\u001b[1;33m\u001b[0m\u001b[0m\n\u001b[0;32m      3\u001b[0m \u001b[0memp_distance\u001b[0m \u001b[1;33m=\u001b[0m \u001b[0mnw\u001b[0m\u001b[1;33m[\u001b[0m\u001b[1;34m\"response\"\u001b[0m\u001b[1;33m]\u001b[0m\u001b[1;33m[\u001b[0m\u001b[1;34m\"groups\"\u001b[0m\u001b[1;33m]\u001b[0m\u001b[1;33m[\u001b[0m\u001b[1;36m0\u001b[0m\u001b[1;33m]\u001b[0m\u001b[1;33m[\u001b[0m\u001b[1;34m\"items\"\u001b[0m\u001b[1;33m]\u001b[0m\u001b[1;33m[\u001b[0m\u001b[1;36m0\u001b[0m\u001b[1;33m]\u001b[0m\u001b[1;33m[\u001b[0m\u001b[1;34m\"venue\"\u001b[0m\u001b[1;33m]\u001b[0m\u001b[1;33m[\u001b[0m\u001b[1;34m\"location\"\u001b[0m\u001b[1;33m]\u001b[0m\u001b[1;33m[\u001b[0m\u001b[1;34m\"distance\"\u001b[0m\u001b[1;33m]\u001b[0m\u001b[1;33m\u001b[0m\u001b[1;33m\u001b[0m\u001b[0m\n",
      "\u001b[1;31mTypeError\u001b[0m: list indices must be integers or slices, not str"
     ]
    }
   ],
   "source": [
    "emp_name = nw[\"response\"][\"groups\"][0][\"items\"][0][\"venue\"][\"name\"]\n",
    "emp_localitation = nw[\"response\"][\"groups\"][0][\"items\"][0][\"venue\"][\"location\"][\"address\"]\n",
    "emp_distance = nw[\"response\"][\"groups\"][0][\"items\"][0][\"venue\"][\"location\"][\"distance\"]"
   ]
  },
  {
   "cell_type": "markdown",
   "metadata": {},
   "source": [
    "#### Busco cuantas empresas hay en Boston (Massachusetts) 3h30 en coche y 1h en avión"
   ]
  },
  {
   "cell_type": "code",
   "execution_count": 57,
   "metadata": {},
   "outputs": [],
   "source": [
    "boston = list(db.companies.find({\"offices.city\": \"Boston\" }))"
   ]
  },
  {
   "cell_type": "code",
   "execution_count": 58,
   "metadata": {},
   "outputs": [
    {
     "data": {
      "text/plain": [
       "130"
      ]
     },
     "execution_count": 58,
     "metadata": {},
     "output_type": "execute_result"
    }
   ],
   "source": [
    "len(boston)"
   ]
  },
  {
   "cell_type": "markdown",
   "metadata": {},
   "source": [
    "#### Busco cuantas empresas hay en Philadelphia (Pensilvania) 1h30 en coche y no hay conexión por avión"
   ]
  },
  {
   "cell_type": "code",
   "execution_count": 60,
   "metadata": {},
   "outputs": [],
   "source": [
    "phi = list(db.companies.find({\"offices.city\": \"Philadelphia\" }))"
   ]
  },
  {
   "cell_type": "code",
   "execution_count": 61,
   "metadata": {},
   "outputs": [
    {
     "data": {
      "text/plain": [
       "50"
      ]
     },
     "execution_count": 61,
     "metadata": {},
     "output_type": "execute_result"
    }
   ],
   "source": [
    "len(phi)"
   ]
  },
  {
   "cell_type": "markdown",
   "metadata": {},
   "source": [
    "### Acceso a la API"
   ]
  },
  {
   "cell_type": "code",
   "execution_count": 104,
   "metadata": {},
   "outputs": [
    {
     "data": {
      "text/plain": [
       "True"
      ]
     },
     "execution_count": 104,
     "metadata": {},
     "output_type": "execute_result"
    }
   ],
   "source": [
    "load_dotenv()"
   ]
  },
  {
   "cell_type": "code",
   "execution_count": 113,
   "metadata": {},
   "outputs": [],
   "source": [
    "# Se trata de la estructura proporcionada por FourSquare directamente\n",
    "\n",
    "url = 'https://api.foursquare.com/v2/venues/explore'\n",
    "\n",
    "params = dict(\n",
    "client_id=fq_client_id,\n",
    "client_secret=fq_client_secret,\n",
    "v='20180323',\n",
    "ll='40.7243,-74.0018',\n",
    "query='coffee',\n",
    "limit=1\n",
    ")\n",
    "resp = requests.get(url=url, params=params)\n",
    "data = json.loads(resp.text)\n",
    "\n",
    "# 40.691720, -73.962987 "
   ]
  },
  {
   "cell_type": "code",
   "execution_count": 114,
   "metadata": {
    "scrolled": true
   },
   "outputs": [
    {
     "data": {
      "text/plain": [
       "{'meta': {'code': 200, 'requestId': '5fafd61c69bc8506c455e4c6'},\n",
       " 'response': {'suggestedFilters': {'header': 'Tap to show:',\n",
       "   'filters': [{'name': '$-$$$$', 'key': 'price'},\n",
       "    {'name': 'Open now', 'key': 'openNow'}]},\n",
       "  'warning': {'text': 'There aren\\'t a lot of results for \"coffee.\" Try something more general, reset your filters, or expand the search area.'},\n",
       "  'suggestedRadius': 600,\n",
       "  'headerLocation': 'SoHo',\n",
       "  'headerFullLocation': 'SoHo, New York',\n",
       "  'headerLocationGranularity': 'neighborhood',\n",
       "  'query': 'coffee',\n",
       "  'totalResults': 64,\n",
       "  'suggestedBounds': {'ne': {'lat': 40.727169470956085,\n",
       "    'lng': -74.00255064150711},\n",
       "   'sw': {'lat': 40.724469811170636, 'lng': -73.99983306744674}},\n",
       "  'groups': [{'type': 'Recommended Places',\n",
       "    'name': 'recommended',\n",
       "    'items': [{'reasons': {'count': 0,\n",
       "       'items': [{'summary': 'This spot is popular',\n",
       "         'type': 'general',\n",
       "         'reasonName': 'globalInteractionReason'}]},\n",
       "      'venue': {'id': '573498df498e6df2eb8b36a7',\n",
       "       'name': 'La Colombe Torrefaction',\n",
       "       'contact': {},\n",
       "       'location': {'address': '154 Prince St',\n",
       "        'crossStreet': 'btwn W Broadway & Thompson',\n",
       "        'lat': 40.72581964106336,\n",
       "        'lng': -74.00119185447693,\n",
       "        'labeledLatLngs': [{'label': 'display',\n",
       "          'lat': 40.72581964106336,\n",
       "          'lng': -74.00119185447693},\n",
       "         {'label': 'entrance', 'lat': 40.72582, 'lng': -74.001153}],\n",
       "        'distance': 176,\n",
       "        'postalCode': '10012',\n",
       "        'cc': 'US',\n",
       "        'city': 'New York',\n",
       "        'state': 'NY',\n",
       "        'country': 'United States',\n",
       "        'formattedAddress': ['154 Prince St (btwn W Broadway & Thompson)',\n",
       "         'New York, NY 10012',\n",
       "         'United States']},\n",
       "       'categories': [{'id': '4bf58dd8d48988d1e0931735',\n",
       "         'name': 'Coffee Shop',\n",
       "         'pluralName': 'Coffee Shops',\n",
       "         'shortName': 'Coffee Shop',\n",
       "         'icon': {'prefix': 'https://ss3.4sqi.net/img/categories_v2/food/coffeeshop_',\n",
       "          'suffix': '.png'},\n",
       "         'primary': True}],\n",
       "       'verified': False,\n",
       "       'stats': {'tipCount': 0,\n",
       "        'usersCount': 0,\n",
       "        'checkinsCount': 0,\n",
       "        'visitsCount': 0},\n",
       "       'beenHere': {'count': 0,\n",
       "        'lastCheckinExpiredAt': 0,\n",
       "        'marked': False,\n",
       "        'unconfirmedCount': 0},\n",
       "       'photos': {'count': 0, 'groups': []},\n",
       "       'hereNow': {'count': 0, 'summary': 'Nobody here', 'groups': []}},\n",
       "      'referralId': 'e-0-573498df498e6df2eb8b36a7-0'}]}]}}"
      ]
     },
     "execution_count": 114,
     "metadata": {},
     "output_type": "execute_result"
    }
   ],
   "source": [
    "data"
   ]
  },
  {
   "cell_type": "markdown",
   "metadata": {},
   "source": [
    "### Proceso de realización del unwinded"
   ]
  },
  {
   "cell_type": "code",
   "execution_count": 102,
   "metadata": {},
   "outputs": [],
   "source": [
    "res = db.companies.aggregate([\n",
    "                      {\"$unwind\":\"$offices\" },\n",
    "                      {\"$match\":{\"offices.latitude\":{\"$ne\":None}}},\n",
    "                      {\"$match\":{\"offices.longitude\":{\"$ne\":None}}},\n",
    "                      {\"$project\":{\"_id\":0}} # We omit the id, because when inserting into new collection, we can't\n",
    "                                             # have two documents with same id.\n",
    "                     ])\n",
    "\n",
    "db.companies_unwinded.insert_many(res)\n",
    "\n",
    "offices = db.companies_unwinded\n",
    "\n",
    "res = offices.find({},{\"offices\":1})\n",
    "\n",
    "\n",
    "for c in res:\n",
    "    filt = {\"_id\":c[\"_id\"]}\n",
    "    coord = {\n",
    "              \"type\": \"Point\",\n",
    "              \"coordinates\": [c[\"offices\"][\"longitude\"], c[\"offices\"][\"latitude\"]]\n",
    "            }\n",
    "    update = {\"$set\":{\"coord\":coord}}\n",
    "    offices.update_one(filt,update)"
   ]
  },
  {
   "cell_type": "code",
   "execution_count": 647,
   "metadata": {
    "scrolled": true
   },
   "outputs": [
    {
     "data": {
      "text/plain": [
       "[{'_id': ObjectId('5fafd1b2dbc14833102fd97c'),\n",
       "  'offices': {'description': None,\n",
       "   'address1': '100 Maple Street',\n",
       "   'address2': '',\n",
       "   'zip_code': '10004',\n",
       "   'city': 'New York',\n",
       "   'state_code': 'NY',\n",
       "   'country_code': 'USA',\n",
       "   'latitude': 40.660393,\n",
       "   'longitude': -73.957626}},\n",
       " {'_id': ObjectId('5fafd1e8dbc14833103003ce'),\n",
       "  'offices': {'description': None,\n",
       "   'address1': '100 Maple Street',\n",
       "   'address2': '',\n",
       "   'zip_code': '10004',\n",
       "   'city': 'New York',\n",
       "   'state_code': 'NY',\n",
       "   'country_code': 'USA',\n",
       "   'latitude': 40.660393,\n",
       "   'longitude': -73.957626}},\n",
       " {'_id': ObjectId('5fafd1b8dbc14833102ff4c6'),\n",
       "  'offices': {'description': 'DoubleVerify, NY',\n",
       "   'address1': '575 8th Avenue',\n",
       "   'address2': '8th floor',\n",
       "   'zip_code': '10018',\n",
       "   'city': 'New York',\n",
       "   'state_code': 'NY',\n",
       "   'country_code': 'USA',\n",
       "   'latitude': 40.6454932,\n",
       "   'longitude': -73.9451011}},\n",
       " {'_id': ObjectId('5fafd1ecdbc1483310301f18'),\n",
       "  'offices': {'description': 'DoubleVerify, NY',\n",
       "   'address1': '575 8th Avenue',\n",
       "   'address2': '8th floor',\n",
       "   'zip_code': '10018',\n",
       "   'city': 'New York',\n",
       "   'state_code': 'NY',\n",
       "   'country_code': 'USA',\n",
       "   'latitude': 40.6454932,\n",
       "   'longitude': -73.9451011}},\n",
       " {'_id': ObjectId('5fafd1b5dbc14833102fde8b'),\n",
       "  'offices': {'description': 'Headquarters',\n",
       "   'address1': '1250 Hancock St.',\n",
       "   'address2': 'Suite 703N',\n",
       "   'zip_code': '02169',\n",
       "   'city': 'Quincy',\n",
       "   'state_code': 'MA',\n",
       "   'country_code': 'USA',\n",
       "   'latitude': 40.673165,\n",
       "   'longitude': -73.964687}},\n",
       " {'_id': ObjectId('5fafd1eadbc14833103008dd'),\n",
       "  'offices': {'description': 'Headquarters',\n",
       "   'address1': '1250 Hancock St.',\n",
       "   'address2': 'Suite 703N',\n",
       "   'zip_code': '02169',\n",
       "   'city': 'Quincy',\n",
       "   'state_code': 'MA',\n",
       "   'country_code': 'USA',\n",
       "   'latitude': 40.673165,\n",
       "   'longitude': -73.964687}}]"
      ]
     },
     "execution_count": 647,
     "metadata": {},
     "output_type": "execute_result"
    }
   ],
   "source": [
    "# Inserto las coordenadas indicadas para jacer el filtro\n",
    "\n",
    "point = {\"type\":\"Point\",\n",
    "         \"coordinates\":[-73.9385, 40.6643]}\n",
    "query ={\n",
    "            \"coord\":{\n",
    "                \"$near\":{\n",
    "                    \"$geometry\":point,\n",
    "                    \"$maxDistance\":2500,\n",
    "                    #\"$minDistance\":\n",
    "                }\n",
    "            }\n",
    "        }\n",
    "res = db.companies_unwinded.find(query,{\"offices\":1})\n",
    "empresas = list(res)\n",
    "empresas\n",
    "# (40.6643, -73.9385) coordenadas de new york"
   ]
  },
  {
   "cell_type": "code",
   "execution_count": 648,
   "metadata": {
    "scrolled": false
   },
   "outputs": [
    {
     "data": {
      "text/plain": [
       "6"
      ]
     },
     "execution_count": 648,
     "metadata": {},
     "output_type": "execute_result"
    }
   ],
   "source": [
    "len(empresas)"
   ]
  },
  {
   "cell_type": "code",
   "execution_count": 651,
   "metadata": {},
   "outputs": [
    {
     "name": "stdout",
     "output_type": "stream",
     "text": [
      "None\n",
      "40.660393\n",
      "-73.957626\n",
      "None\n",
      "40.660393\n",
      "-73.957626\n",
      "DoubleVerify, NY\n",
      "40.6454932\n",
      "-73.9451011\n",
      "DoubleVerify, NY\n",
      "40.6454932\n",
      "-73.9451011\n",
      "Headquarters\n",
      "40.673165\n",
      "-73.964687\n",
      "Headquarters\n",
      "40.673165\n",
      "-73.964687\n"
     ]
    }
   ],
   "source": [
    "# Sacar con un bucle el nombre, latitud y longitud\n",
    "\n",
    "for i in empresas:\n",
    "    print(i[\"offices\"][\"description\"])\n",
    "    print(i[\"offices\"][\"latitude\"])\n",
    "    print(i[\"offices\"][\"longitude\"])"
   ]
  },
  {
   "cell_type": "code",
   "execution_count": 640,
   "metadata": {},
   "outputs": [
    {
     "name": "stdout",
     "output_type": "stream",
     "text": [
      "(40.660393, -73.957626)\n",
      "(40.6454932, -73.9451011)\n"
     ]
    }
   ],
   "source": [
    "## MODO CUENTA DE LA VIEJA\n",
    "\n",
    "empresa1 = []\n",
    "empresa2 = []\n",
    "\n",
    "empresa1.append((empresas[0][\"offices\"][\"latitude\"]))\n",
    "empresa1.append((empresas[0][\"offices\"][\"longitude\"]))\n",
    "\n",
    "empresa2.append((empresas[2][\"offices\"][\"latitude\"]))\n",
    "empresa2.append((empresas[2][\"offices\"][\"longitude\"]))\n",
    "\n",
    "empresa1 = tuple(empresa1)\n",
    "empresa2 = tuple(empresa2)\n",
    "\n",
    "print(empresa1)\n",
    "print(empresa2)\n",
    "\n",
    "\n"
   ]
  },
  {
   "cell_type": "code",
   "execution_count": 641,
   "metadata": {},
   "outputs": [
    {
     "name": "stdout",
     "output_type": "stream",
     "text": [
      "40.660393\n",
      "-73.957626\n",
      "40.660393\n",
      "-73.957626\n",
      "40.6454932\n",
      "-73.9451011\n",
      "40.6454932\n",
      "-73.9451011\n",
      "40.673165\n",
      "-73.964687\n",
      "40.673165\n",
      "-73.964687\n"
     ]
    }
   ],
   "source": [
    "### Intento 243\n",
    "\n",
    "# for office in empresas:\n",
    "#     print(office[\"offices\"][\"latitude\"])\n",
    "#     print(office[\"offices\"][\"longitude\"])"
   ]
  },
  {
   "cell_type": "code",
   "execution_count": 642,
   "metadata": {
    "scrolled": true
   },
   "outputs": [
    {
     "name": "stdout",
     "output_type": "stream",
     "text": [
      "(40.660393, -73.957626, 40.660393, -73.957626, 40.6454932, -73.9451011, 40.6454932, -73.9451011, 40.673165, -73.964687, 40.673165, -73.964687)\n",
      "{40.660393, 40.6454932, 40.673165, -73.957626, -73.964687, -73.9451011}\n"
     ]
    }
   ],
   "source": [
    "#### Intento 2.458\n",
    "\n",
    "# empresa1 = []\n",
    "# empresa2 = []\n",
    "\n",
    "# for office in empresas:\n",
    "    \n",
    "#     empresa1.append(office[\"offices\"][\"latitude\"])\n",
    "#     empresa1.append(office[\"offices\"][\"longitude\"])\n",
    "    \n",
    "# print((tuple(empresa1)))\n",
    "# print(set(tuple(empresa1)))\n"
   ]
  },
  {
   "cell_type": "code",
   "execution_count": null,
   "metadata": {},
   "outputs": [],
   "source": []
  },
  {
   "cell_type": "code",
   "execution_count": 644,
   "metadata": {},
   "outputs": [
    {
     "name": "stdout",
     "output_type": "stream",
     "text": [
      "[40.660393, -73.957626]\n",
      "[40.6454932, -73.9451011]\n"
     ]
    }
   ],
   "source": [
    "# Búsqueda 1.235 en internet\n",
    "\n",
    "nueva=[]\n",
    "\n",
    "def eliminar_repetidos(empresa1):\n",
    "    \n",
    "    for elemento in empresa1:\n",
    "        if not elemento in nueva:\n",
    "            nueva.append(elemento)\n",
    "    return nueva\n",
    "\n",
    "eliminar_repetidos(empresa1[:6])\n",
    "\n",
    "empresa1 = nueva[:2]\n",
    "empresa2 = nueva[2:4]\n",
    "\n",
    "print(empresa1)\n",
    "print(empresa2)\n"
   ]
  },
  {
   "cell_type": "code",
   "execution_count": null,
   "metadata": {},
   "outputs": [],
   "source": [
    "# def dist(lista)\n",
    "# distances=[]\n",
    "#     for x in range(0,14):\n",
    "#         result=lista[\"response\"][\"groups\"][0][\"items\"][x][\"venue\"][\"location\"][\"distance\"]\n",
    "#         distances.append(result)\n",
    "#     return(distances)"
   ]
  },
  {
   "cell_type": "code",
   "execution_count": 394,
   "metadata": {},
   "outputs": [],
   "source": [
    "#res.keys() # para mirar las keys; en caso contrario sustituir por values"
   ]
  },
  {
   "cell_type": "code",
   "execution_count": null,
   "metadata": {},
   "outputs": [],
   "source": [
    "# element.items() # da cada key y cada value"
   ]
  },
  {
   "cell_type": "code",
   "execution_count": null,
   "metadata": {},
   "outputs": [],
   "source": [
    "# {k:tyoe(v) for k,v in element.items()} # explorar cada tipo de datos"
   ]
  },
  {
   "cell_type": "code",
   "execution_count": null,
   "metadata": {},
   "outputs": [],
   "source": [
    "# set([comp[\"category_code\"] for comp in res]) # para sacar un set de todos los elementos de category_code"
   ]
  },
  {
   "cell_type": "markdown",
   "metadata": {},
   "source": [
    "## PRUEBA"
   ]
  },
  {
   "cell_type": "markdown",
   "metadata": {},
   "source": [
    "## 1. Buscando un estadio de Baloncesto"
   ]
  },
  {
   "cell_type": "code",
   "execution_count": 661,
   "metadata": {},
   "outputs": [],
   "source": [
    "url = 'https://api.foursquare.com/v2/venues/explore'   # Dirección de la API\n",
    "\n",
    "params = dict(\n",
    "client_id=fq_client_id,                                # Verificación claves de acceso\n",
    "client_secret=fq_client_secret,\n",
    "v='20201001',                                          # Fecha de actualización\n",
    "ll='40.660393, -73.957626',                                 # Coordenadas principales para buscar a partir de ellas\n",
    "query='Basketball Stadium',                            # ¿Qué estamos buscando? Ver categoria de los eventos en Links Importantes\n",
    "limit=1                                                # Limite de búsquedas\n",
    ")\n",
    "resp = requests.get(url=url, params=params)            # Buscar en la url definida con los parámetros elegidos\n",
    "data = json.loads(resp.text)                           # Convertirlo en un json y convertir la búsqueda en texto\n",
    "\n"
   ]
  },
  {
   "cell_type": "code",
   "execution_count": 662,
   "metadata": {},
   "outputs": [],
   "source": [
    "basket = data"
   ]
  },
  {
   "cell_type": "code",
   "execution_count": 663,
   "metadata": {
    "scrolled": true
   },
   "outputs": [
    {
     "data": {
      "text/plain": [
       "{'meta': {'code': 200, 'requestId': '5fb2c1b84450ba020e611518'},\n",
       " 'response': {'warning': {'text': 'There aren\\'t a lot of results for \"Basketball Stadium.\" Try something more general, reset your filters, or expand the search area.'},\n",
       "  'suggestedRadius': 3813,\n",
       "  'headerLocation': 'Prospect Lefferts Gardens',\n",
       "  'headerFullLocation': 'Prospect Lefferts Gardens, Brooklyn',\n",
       "  'headerLocationGranularity': 'neighborhood',\n",
       "  'query': 'basketball stadium',\n",
       "  'totalResults': 2,\n",
       "  'suggestedBounds': {'ne': {'lat': 40.68432018965407,\n",
       "    'lng': -73.97727314718925},\n",
       "   'sw': {'lat': 40.681620529868624, 'lng': -73.97453955184604}},\n",
       "  'groups': [{'type': 'Recommended Places',\n",
       "    'name': 'recommended',\n",
       "    'items': [{'reasons': {'count': 0,\n",
       "       'items': [{'summary': 'This spot is popular',\n",
       "         'type': 'general',\n",
       "         'reasonName': 'globalInteractionReason'}]},\n",
       "      'venue': {'id': '4b992b04f964a520726635e3',\n",
       "       'name': 'Barclays Center',\n",
       "       'location': {'address': '620 Atlantic Ave',\n",
       "        'crossStreet': 'at Flatbush Ave',\n",
       "        'lat': 40.68297035976135,\n",
       "        'lng': -73.97590634951764,\n",
       "        'distance': 2949,\n",
       "        'postalCode': '11217',\n",
       "        'cc': 'US',\n",
       "        'city': 'Brooklyn',\n",
       "        'state': 'NY',\n",
       "        'country': 'United States',\n",
       "        'formattedAddress': ['620 Atlantic Ave (at Flatbush Ave)',\n",
       "         'Brooklyn, NY 11217',\n",
       "         'United States']},\n",
       "       'categories': [{'id': '4bf58dd8d48988d18b941735',\n",
       "         'name': 'Basketball Stadium',\n",
       "         'pluralName': 'Basketball Stadiums',\n",
       "         'shortName': 'Basketball',\n",
       "         'icon': {'prefix': 'https://ss3.4sqi.net/img/categories_v2/arts_entertainment/stadium_basketball_',\n",
       "          'suffix': '.png'},\n",
       "         'primary': True}],\n",
       "       'photos': {'count': 0, 'groups': []}},\n",
       "      'referralId': 'e-0-4b992b04f964a520726635e3-0'}]}]}}"
      ]
     },
     "execution_count": 663,
     "metadata": {},
     "output_type": "execute_result"
    }
   ],
   "source": [
    "basket"
   ]
  },
  {
   "cell_type": "markdown",
   "metadata": {},
   "source": [
    "### 1.1 Obtengo la información del campo de basket"
   ]
  },
  {
   "cell_type": "code",
   "execution_count": 464,
   "metadata": {},
   "outputs": [
    {
     "data": {
      "text/plain": [
       "dict"
      ]
     },
     "execution_count": 464,
     "metadata": {},
     "output_type": "execute_result"
    }
   ],
   "source": [
    "type(basket)"
   ]
  },
  {
   "cell_type": "code",
   "execution_count": 380,
   "metadata": {},
   "outputs": [
    {
     "name": "stdout",
     "output_type": "stream",
     "text": [
      "Nombre:  Madison Square Garden\n",
      "Dirección:  4 Penn Plz\n",
      "Distancia de la empresa:  3137\n",
      "Latitud:  40.75075196505169\n",
      "Long:  -73.99354219436646\n"
     ]
    }
   ],
   "source": [
    "basket_name = basket[\"response\"][\"groups\"][0][\"items\"][0][\"venue\"][\"name\"] # Cambiar el 0 por un i dentro de un for\n",
    "basket_loc = basket[\"response\"][\"groups\"][0][\"items\"][0][\"venue\"][\"location\"][\"address\"]\n",
    "basket_dis = basket[\"response\"][\"groups\"][0][\"items\"][0][\"venue\"][\"location\"][\"distance\"]\n",
    "basket_lat = basket[\"response\"][\"groups\"][0][\"items\"][0][\"venue\"][\"location\"][\"lat\"]\n",
    "basket_lng = basket[\"response\"][\"groups\"][0][\"items\"][0][\"venue\"][\"location\"][\"lng\"]\n",
    "\n",
    "print(\"Nombre: \",basket_name)\n",
    "print(\"Dirección: \",basket_loc)\n",
    "print(\"Distancia de la empresa: \",basket_dis)\n",
    "print(\"Latitud: \",basket_lat)\n",
    "print(\"Long: \",basket_lng)"
   ]
  },
  {
   "cell_type": "markdown",
   "metadata": {},
   "source": [
    "# 2. Buscando servicios de viajes"
   ]
  },
  {
   "cell_type": "code",
   "execution_count": 665,
   "metadata": {},
   "outputs": [],
   "source": [
    "url = 'https://api.foursquare.com/v2/venues/explore'\n",
    "\n",
    "params = dict(\n",
    "client_id=fq_client_id,\n",
    "client_secret=fq_client_secret,\n",
    "v='20201001',\n",
    "ll='40.660393, -73.957626',\n",
    "query='Airport',\n",
    "limit=1\n",
    ")\n",
    "resp = requests.get(url=url, params=params)\n",
    "data = json.loads(resp.text)"
   ]
  },
  {
   "cell_type": "code",
   "execution_count": 666,
   "metadata": {},
   "outputs": [],
   "source": [
    "airport = data"
   ]
  },
  {
   "cell_type": "code",
   "execution_count": 667,
   "metadata": {
    "scrolled": true
   },
   "outputs": [
    {
     "data": {
      "text/plain": [
       "{'meta': {'code': 200, 'requestId': '5fb2c1dd6e16037dc75fc5b0'},\n",
       " 'response': {'suggestedFilters': {'header': 'Tap to show:',\n",
       "   'filters': [{'name': 'Open now', 'key': 'openNow'}]},\n",
       "  'warning': {'text': 'There aren\\'t a lot of results for \"Airport.\" Try something more general, reset your filters, or expand the search area.'},\n",
       "  'suggestedRadius': 3813,\n",
       "  'headerLocation': 'Prospect Lefferts Gardens',\n",
       "  'headerFullLocation': 'Prospect Lefferts Gardens, Brooklyn',\n",
       "  'headerLocationGranularity': 'neighborhood',\n",
       "  'query': 'airport',\n",
       "  'totalResults': 105,\n",
       "  'suggestedBounds': {'ne': {'lat': 40.66677130734037,\n",
       "    'lng': -73.99032108742229},\n",
       "   'sw': {'lat': 40.66407164755492, 'lng': -73.98757941764363}},\n",
       "  'groups': [{'type': 'Recommended Places',\n",
       "    'name': 'recommended',\n",
       "    'items': [{'reasons': {'count': 0,\n",
       "       'items': [{'summary': 'This spot is popular',\n",
       "         'type': 'general',\n",
       "         'reasonName': 'globalInteractionReason'}]},\n",
       "      'venue': {'id': '4b2cbbc9f964a520d8c824e3',\n",
       "       'name': 'Eastern Car Service',\n",
       "       'location': {'address': '222 15th Street',\n",
       "        'crossStreet': '5th Av',\n",
       "        'lat': 40.665421477447644,\n",
       "        'lng': -73.98895025253296,\n",
       "        'labeledLatLngs': [{'label': 'display',\n",
       "          'lat': 40.665421477447644,\n",
       "          'lng': -73.98895025253296}],\n",
       "        'distance': 2703,\n",
       "        'postalCode': '11215',\n",
       "        'cc': 'US',\n",
       "        'city': 'Brooklyn',\n",
       "        'state': 'NY',\n",
       "        'country': 'United States',\n",
       "        'formattedAddress': ['222 15th Street (5th Av)',\n",
       "         'Brooklyn, NY 11215',\n",
       "         'United States']},\n",
       "       'categories': [{'id': '4bf58dd8d48988d130951735',\n",
       "         'name': 'Taxi',\n",
       "         'pluralName': 'Taxis',\n",
       "         'shortName': 'Taxi',\n",
       "         'icon': {'prefix': 'https://ss3.4sqi.net/img/categories_v2/travel/taxi_',\n",
       "          'suffix': '.png'},\n",
       "         'primary': True}],\n",
       "       'photos': {'count': 0, 'groups': []},\n",
       "       'venuePage': {'id': '421615658'}},\n",
       "      'referralId': 'e-0-4b2cbbc9f964a520d8c824e3-0'}]}]}}"
      ]
     },
     "execution_count": 667,
     "metadata": {},
     "output_type": "execute_result"
    }
   ],
   "source": [
    "airport"
   ]
  },
  {
   "cell_type": "markdown",
   "metadata": {},
   "source": [
    "### 2.1 Información servicios de viajes"
   ]
  },
  {
   "cell_type": "code",
   "execution_count": 668,
   "metadata": {
    "scrolled": true
   },
   "outputs": [
    {
     "name": "stdout",
     "output_type": "stream",
     "text": [
      "Nombre:  Eastern Car Service\n",
      "Dirección:  222 15th Street\n",
      "Distancia de la empresa:  2703\n",
      "Latitud:  40.665421477447644\n",
      "Long:  -73.98895025253296\n"
     ]
    }
   ],
   "source": [
    "airport_name = airport[\"response\"][\"groups\"][0][\"items\"][0][\"venue\"][\"name\"]\n",
    "airport_loc = airport[\"response\"][\"groups\"][0][\"items\"][0][\"venue\"][\"location\"][\"address\"]\n",
    "airport_dis = airport[\"response\"][\"groups\"][0][\"items\"][0][\"venue\"][\"location\"][\"distance\"]\n",
    "airport_lat = airport[\"response\"][\"groups\"][0][\"items\"][0][\"venue\"][\"location\"][\"lat\"]\n",
    "airport_lng = airport[\"response\"][\"groups\"][0][\"items\"][0][\"venue\"][\"location\"][\"lng\"]\n",
    "\n",
    "print(\"Nombre: \",airport_name)\n",
    "print(\"Dirección: \",airport_loc)\n",
    "print(\"Distancia de la empresa: \",airport_dis)\n",
    "print(\"Latitud: \",airport_lat)\n",
    "print(\"Long: \",airport_lng)"
   ]
  },
  {
   "cell_type": "markdown",
   "metadata": {},
   "source": [
    "# 3. Buscando un restauranto vegano"
   ]
  },
  {
   "cell_type": "code",
   "execution_count": 687,
   "metadata": {},
   "outputs": [],
   "source": [
    "url = 'https://api.foursquare.com/v2/venues/explore'\n",
    "\n",
    "params = dict(\n",
    "client_id=fq_client_id,\n",
    "client_secret=fq_client_secret,\n",
    "v='20201001',\n",
    "ll='40.660393, -73.957626',\n",
    "query='Vegetarian / Vegan Restaurant',\n",
    "limit=1\n",
    ")\n",
    "resp = requests.get(url=url, params=params)\n",
    "data = json.loads(resp.text)"
   ]
  },
  {
   "cell_type": "code",
   "execution_count": 688,
   "metadata": {},
   "outputs": [],
   "source": [
    "vegan = data"
   ]
  },
  {
   "cell_type": "code",
   "execution_count": 689,
   "metadata": {
    "scrolled": true
   },
   "outputs": [
    {
     "data": {
      "text/plain": [
       "{'meta': {'code': 200, 'requestId': '5fb2d735d64a734725ba65be'},\n",
       " 'response': {'suggestedFilters': {'header': 'Tap to show:',\n",
       "   'filters': [{'name': 'Open now', 'key': 'openNow'},\n",
       "    {'name': '$-$$$$', 'key': 'price'}]},\n",
       "  'warning': {'text': 'There aren\\'t a lot of results for \"Vegetarian / Vegan Restaurant.\" Try something more general, reset your filters, or expand the search area.'},\n",
       "  'suggestedRadius': 1271,\n",
       "  'headerLocation': 'Prospect Lefferts Gardens',\n",
       "  'headerFullLocation': 'Prospect Lefferts Gardens, Brooklyn',\n",
       "  'headerLocationGranularity': 'neighborhood',\n",
       "  'query': 'vegetarian vegan restaurant',\n",
       "  'totalResults': 47,\n",
       "  'suggestedBounds': {'ne': {'lat': 40.65526845136902,\n",
       "    'lng': -73.96086996747974},\n",
       "   'sw': {'lat': 40.65256879158357, 'lng': -73.95812251906503}},\n",
       "  'groups': [{'type': 'Recommended Places',\n",
       "    'name': 'recommended',\n",
       "    'items': [{'reasons': {'count': 0,\n",
       "       'items': [{'summary': 'This spot is popular',\n",
       "         'type': 'general',\n",
       "         'reasonName': 'globalInteractionReason'}]},\n",
       "      'venue': {'id': '4a89d100f964a520160920e3',\n",
       "       'name': 'Zen Vegetarian House',\n",
       "       'location': {'address': '773 Flatbush Ave',\n",
       "        'crossStreet': 'Clarkson Ave',\n",
       "        'lat': 40.65391862147629,\n",
       "        'lng': -73.95949624327238,\n",
       "        'labeledLatLngs': [{'label': 'display',\n",
       "          'lat': 40.65391862147629,\n",
       "          'lng': -73.95949624327238},\n",
       "         {'label': 'entrance', 'lat': 40.653952, 'lng': -73.959377}],\n",
       "        'distance': 737,\n",
       "        'postalCode': '11226',\n",
       "        'cc': 'US',\n",
       "        'city': 'Brooklyn',\n",
       "        'state': 'NY',\n",
       "        'country': 'United States',\n",
       "        'formattedAddress': ['773 Flatbush Ave (Clarkson Ave)',\n",
       "         'Brooklyn, NY 11226',\n",
       "         'United States']},\n",
       "       'categories': [{'id': '4bf58dd8d48988d1d3941735',\n",
       "         'name': 'Vegetarian / Vegan Restaurant',\n",
       "         'pluralName': 'Vegetarian / Vegan Restaurants',\n",
       "         'shortName': 'Vegetarian / Vegan',\n",
       "         'icon': {'prefix': 'https://ss3.4sqi.net/img/categories_v2/food/vegetarian_',\n",
       "          'suffix': '.png'},\n",
       "         'primary': True}],\n",
       "       'delivery': {'id': '282081',\n",
       "        'url': 'https://www.seamless.com/menu/zen-vegetarian-inc-773-flatbush-ave-brooklyn/282081?affiliate=1131&utm_source=foursquare-affiliate-network&utm_medium=affiliate&utm_campaign=1131&utm_content=282081',\n",
       "        'provider': {'name': 'seamless',\n",
       "         'icon': {'prefix': 'https://fastly.4sqi.net/img/general/cap/',\n",
       "          'sizes': [40, 50],\n",
       "          'name': '/delivery_provider_seamless_20180129.png'}}},\n",
       "       'photos': {'count': 0, 'groups': []}},\n",
       "      'referralId': 'e-0-4a89d100f964a520160920e3-0'}]}]}}"
      ]
     },
     "execution_count": 689,
     "metadata": {},
     "output_type": "execute_result"
    }
   ],
   "source": [
    "vegan"
   ]
  },
  {
   "cell_type": "markdown",
   "metadata": {},
   "source": [
    "### 3.1 Información del restaurante vegano"
   ]
  },
  {
   "cell_type": "code",
   "execution_count": 690,
   "metadata": {
    "scrolled": false
   },
   "outputs": [
    {
     "name": "stdout",
     "output_type": "stream",
     "text": [
      "Nombre:  Zen Vegetarian House\n",
      "Dirección:  773 Flatbush Ave\n",
      "Distancia de la empresa:  737\n",
      "Latitud:  40.65391862147629\n",
      "Long:  -73.95949624327238\n"
     ]
    }
   ],
   "source": [
    "vegan_name = vegan[\"response\"][\"groups\"][0][\"items\"][0][\"venue\"][\"name\"]\n",
    "vegan_loc = vegan[\"response\"][\"groups\"][0][\"items\"][0][\"venue\"][\"location\"][\"address\"]\n",
    "vegan_dis = vegan[\"response\"][\"groups\"][0][\"items\"][0][\"venue\"][\"location\"][\"distance\"]\n",
    "vegan_lat = vegan[\"response\"][\"groups\"][0][\"items\"][0][\"venue\"][\"location\"][\"lat\"]\n",
    "vegan_lng = vegan[\"response\"][\"groups\"][0][\"items\"][0][\"venue\"][\"location\"][\"lng\"]\n",
    "\n",
    "print(\"Nombre: \",vegan_name)\n",
    "print(\"Dirección: \",vegan_loc)\n",
    "print(\"Distancia de la empresa: \",vegan_dis)\n",
    "print(\"Latitud: \",vegan_lat)\n",
    "print(\"Long: \",vegan_lng)"
   ]
  },
  {
   "cell_type": "code",
   "execution_count": null,
   "metadata": {},
   "outputs": [],
   "source": []
  },
  {
   "cell_type": "markdown",
   "metadata": {},
   "source": [
    "### Creo el mapa"
   ]
  },
  {
   "cell_type": "code",
   "execution_count": 691,
   "metadata": {},
   "outputs": [],
   "source": [
    "# Defino las coordenadas de donde quiero centrar el mapa\n",
    "\n",
    "company_lat = 40.72277\n",
    "company_lng = -73.9972\n",
    "\n",
    "   # Dirección empresa seleccionada\n",
    "\n",
    "coord_ny = (40.6643, -73.9385)    # Coordenas oficiales de Nueva York  https://es.db-city.com/Estados-Unidos--Nueva-York--New-York--Nueva-York\n",
    "point = (40.7403, -73.9939)       # Punto elegido a mano para la visualización del mapa\n",
    "\n",
    "coor_pratt = (40.691720, -73.962987)\n",
    "\n",
    "company = (40.660393, -73.957626)  \n",
    "company2 = (40.6454932, -73.957626)\n",
    "\n"
   ]
  },
  {
   "cell_type": "markdown",
   "metadata": {},
   "source": [
    "### Mapa 1"
   ]
  },
  {
   "cell_type": "code",
   "execution_count": 692,
   "metadata": {
    "scrolled": false
   },
   "outputs": [
    {
     "data": {
      "text/html": [
       "<div style=\"width:100%;\"><div style=\"position:relative;width:100%;height:0;padding-bottom:60%;\"><span style=\"color:#565656\">Make this Notebook Trusted to load map: File -> Trust Notebook</span><iframe src=\"about:blank\" style=\"position:absolute;width:100%;height:100%;left:0;top:0;border:none !important;\" data-html=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 onload=\"this.contentDocument.open();this.contentDocument.write(atob(this.getAttribute('data-html')));this.contentDocument.close();\" allowfullscreen webkitallowfullscreen mozallowfullscreen></iframe></div></div>"
      ],
      "text/plain": [
       "<folium.folium.Map at 0x229d631f220>"
      ]
     },
     "execution_count": 692,
     "metadata": {},
     "output_type": "execute_result"
    }
   ],
   "source": [
    "# Creo el mapa\n",
    "\n",
    "\n",
    "map1 = folium.Map(location=(company),           # Coordenadas del mapa\n",
    "                  tiles='Stamen Terrain',     # El tipo de mapa deseado\n",
    "                  zoom_start=11)              # Cuanto mayor sea el número de zoom_start, más cerca se encuentra la captura inicial\n",
    "\n",
    "# Defino los marcadores al mapa\n",
    "\n",
    "# Investigar tooltip (https://python-visualization.github.io/folium/modules.html)\n",
    "\n",
    "# Estadio de basket\n",
    "\n",
    "marker1 = folium.Marker(location=(basket_lat, basket_lng),          # Coordenadas\n",
    "                        popup=\"Madison Square Garden\",              # Etiqueta que sale al clickar\n",
    "                        icon = folium.Icon(icon='futbol-o', color= \"red\", prefix='fa'),     # Icono, color y prefijo(obligatorio)\n",
    "                       https= \"https://www.msg.com/calendar/?category=Sports&venue_id=KovZpZA7AAEA\").add_to(map1) # Web\n",
    "\n",
    "# Estación de buses\n",
    "\n",
    "marker2 = folium.Marker(location=(airport_lat, airport_lng),        \n",
    "                       popup=\"Estacion de autobuses\",\n",
    "                       icon = folium.Icon(icon='bus', color= \"blue\", prefix='fa')).add_to(map1)     \n",
    "\n",
    "# Restaurante vegano\n",
    "\n",
    "marker3 = folium.Marker(location=(vegan_lat, vegan_lng),            \n",
    "                       popup=f\"Restaurante Vegano: Zen Vegetarian House\",\n",
    "                       icon = folium.Icon(icon='shopping-basket', color= \"green\", prefix='fa')).add_to(map1)     \n",
    "\n",
    "# Instituto Pratt\n",
    "\n",
    "marker4 = folium.Marker(location=(coor_pratt),            \n",
    "                       popup=\"Pratt Institute\",\n",
    "                       icon = folium.Icon(icon='university', color= \"cadetblue\", prefix='fa')).add_to(map1)     \n",
    "\n",
    "\n",
    "# Empresa \n",
    "market5 = folium.Marker(location=(company), \n",
    "                           popup =\"Empresa 1 : Sin Nombre\", \n",
    "                           icon = folium.Icon(icon='industry', color= \"gray\", prefix='fa')).add_to(map1)\n",
    "\n",
    "# Empresa 2\n",
    "market6 = folium.Marker(location=(company2), \n",
    "                           popup =\"Empresa 2: DoubleVerify\", \n",
    "                           icon = folium.Icon(icon='industry', color= \"gray\", prefix='fa')).add_to(map1)\n",
    "\n",
    "# # 'latitude': 40.6454932,\n",
    "#    'longitude': -73.9451011}},\n",
    "\n",
    "# Agrego un medidor de distancias (seleccionas dos puntos y te dice la distancia entre medias)\n",
    "\n",
    "from folium.plugins import MeasureControl\n",
    "map1.add_child(MeasureControl())\n",
    "\n",
    "# Agrego un indicador de con cada click indica las coordenadas de ese punto\n",
    "\n",
    "map1.add_child(folium.LatLngPopup())\n",
    "\n",
    "map1"
   ]
  },
  {
   "cell_type": "code",
   "execution_count": null,
   "metadata": {},
   "outputs": [],
   "source": []
  },
  {
   "cell_type": "markdown",
   "metadata": {},
   "source": [
    "### Mapa 2"
   ]
  },
  {
   "cell_type": "code",
   "execution_count": 693,
   "metadata": {},
   "outputs": [
    {
     "data": {
      "text/html": [
       "<div style=\"width:100%;\"><div style=\"position:relative;width:100%;height:0;padding-bottom:60%;\"><span style=\"color:#565656\">Make this Notebook Trusted to load map: File -> Trust Notebook</span><iframe src=\"about:blank\" style=\"position:absolute;width:100%;height:100%;left:0;top:0;border:none !important;\" data-html=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 onload=\"this.contentDocument.open();this.contentDocument.write(atob(this.getAttribute('data-html')));this.contentDocument.close();\" allowfullscreen webkitallowfullscreen mozallowfullscreen></iframe></div></div>"
      ],
      "text/plain": [
       "<folium.folium.Map at 0x229d61b23d0>"
      ]
     },
     "execution_count": 693,
     "metadata": {},
     "output_type": "execute_result"
    }
   ],
   "source": [
    "# Creo el mapa\n",
    "\n",
    "\n",
    "map1 = folium.Map(location=(company),           # Coordenadas del mapa\n",
    "                  tiles='Stamen Toner',     # El tipo de mapa deseado\n",
    "                  zoom_start=11)              # Cuanto mayor sea el número de zoom_start, más cerca se encuentra la captura inicial\n",
    "\n",
    "# Defino los marcadores al mapa\n",
    "\n",
    "# Investigar tooltip (https://python-visualization.github.io/folium/modules.html)\n",
    "\n",
    "# Estadio de basket\n",
    "\n",
    "marker1 = folium.Marker(location=(basket_lat, basket_lng),          # Coordenadas\n",
    "                        popup=\"Madison Square Garden\",              # Etiqueta que sale al clickar\n",
    "                        icon = folium.Icon(icon='futbol-o', color= \"red\", prefix='fa'),     # Icono, color y prefijo(obligatorio)\n",
    "                       https= \"https://www.msg.com/calendar/?category=Sports&venue_id=KovZpZA7AAEA\").add_to(map1) # Web\n",
    "\n",
    "# Estación de buses\n",
    "\n",
    "marker2 = folium.Marker(location=(airport_lat, airport_lng),        \n",
    "                       popup=\"Estacion de autobuses\",\n",
    "                       icon = folium.Icon(icon='bus', color= \"blue\", prefix='fa')).add_to(map1)     \n",
    "\n",
    "# Restaurante vegano\n",
    "\n",
    "marker3 = folium.Marker(location=(vegan_lat, vegan_lng),            \n",
    "                       popup=f\"Restaurante Vegano: Zen Vegetarian House\",\n",
    "                       icon = folium.Icon(icon='shopping-basket', color= \"green\", prefix='fa')).add_to(map1)     \n",
    "\n",
    "# Instituto Pratt\n",
    "\n",
    "marker4 = folium.Marker(location=(coor_pratt),            \n",
    "                       popup=\"Pratt Institute\",\n",
    "                       icon = folium.Icon(icon='university', color= \"cadetblue\", prefix='fa')).add_to(map1)     \n",
    "\n",
    "\n",
    "# Empresa \n",
    "market5 = folium.Marker(location=(company), \n",
    "                           popup =\"Empresa 1 : Sin Nombre\", \n",
    "                           icon = folium.Icon(icon='industry', color= \"gray\", prefix='fa')).add_to(map1)\n",
    "\n",
    "# Empresa 2\n",
    "market6 = folium.Marker(location=(company2), \n",
    "                           popup =\"Empresa 2: DoubleVerify\", \n",
    "                           icon = folium.Icon(icon='industry', color= \"gray\", prefix='fa')).add_to(map1)\n",
    "\n",
    "# # 'latitude': 40.6454932,\n",
    "#    'longitude': -73.9451011}},\n",
    "\n",
    "# Agrego un medidor de distancias (seleccionas dos puntos y te dice la distancia entre medias)\n",
    "\n",
    "from folium.plugins import MeasureControl\n",
    "map1.add_child(MeasureControl())\n",
    "\n",
    "# Agrego un indicador de con cada click indica las coordenadas de ese punto\n",
    "\n",
    "map1.add_child(folium.LatLngPopup())\n",
    "\n",
    "map1"
   ]
  },
  {
   "cell_type": "code",
   "execution_count": null,
   "metadata": {},
   "outputs": [],
   "source": []
  },
  {
   "cell_type": "markdown",
   "metadata": {},
   "source": [
    "### Links importantes\n",
    "\n",
    "- **1. Four Square**\n",
    "    - Regular API Endpoints: https://developer.foursquare.com/docs/places-api/endpoints/\n",
    "    - Realizar llamada a la API: https://developer.foursquare.com/docs/places-api/getting-started/\n",
    "    - Categoría de los eventos: https://developer.foursquare.com/docs/build-with-foursquare/categories/\n",
    "    \n",
    "    \n",
    "    \n",
    "- **2. Folium**\n",
    "    - Documentación 1: https://python-visualization.github.io/folium/\n",
    "    - Documentación 2: https://python-visualization.github.io/folium/modules.html\n",
    "    - Iconos 1: https://fontawesome.com/v4.7.0/icons/\n",
    "    - Iconos 2: https://getbootstrap.com/docs/3.3/components/"
   ]
  },
  {
   "cell_type": "code",
   "execution_count": null,
   "metadata": {},
   "outputs": [],
   "source": []
  },
  {
   "cell_type": "markdown",
   "metadata": {},
   "source": [
    "### Intentando coger más de un punto"
   ]
  },
  {
   "cell_type": "code",
   "execution_count": 341,
   "metadata": {},
   "outputs": [],
   "source": [
    "url = 'https://api.foursquare.com/v2/venues/explore'\n",
    "\n",
    "params = dict(\n",
    "client_id=fq_client_id,\n",
    "client_secret=fq_client_secret,\n",
    "v='20201001',\n",
    "ll='40.7237306,-73.9964312',\n",
    "query='Airport',\n",
    "limit=3\n",
    ")\n",
    "resp = requests.get(url=url, params=params)\n",
    "data = json.loads(resp.text)"
   ]
  },
  {
   "cell_type": "code",
   "execution_count": 342,
   "metadata": {},
   "outputs": [
    {
     "data": {
      "text/plain": [
       "{'meta': {'code': 200, 'requestId': '5fb15b0783e39e1edd607ba0'},\n",
       " 'response': {'suggestedFilters': {'header': 'Tap to show:',\n",
       "   'filters': [{'name': 'Open now', 'key': 'openNow'}]},\n",
       "  'warning': {'text': 'There aren\\'t a lot of results for \"Airport.\" Try something more general, reset your filters, or expand the search area.'},\n",
       "  'suggestedRadius': 600,\n",
       "  'headerLocation': 'NoLita',\n",
       "  'headerFullLocation': 'NoLita, New York',\n",
       "  'headerLocationGranularity': 'neighborhood',\n",
       "  'query': 'airport',\n",
       "  'totalResults': 53,\n",
       "  'suggestedBounds': {'ne': {'lat': 40.733525874926755,\n",
       "    'lng': -73.99512133598328},\n",
       "   'sw': {'lat': 40.72014791071777, 'lng': -74.00275101661681}},\n",
       "  'groups': [{'type': 'Recommended Places',\n",
       "    'name': 'recommended',\n",
       "    'items': [{'reasons': {'count': 0,\n",
       "       'items': [{'summary': 'This spot is popular',\n",
       "         'type': 'general',\n",
       "         'reasonName': 'globalInteractionReason'}]},\n",
       "      'venue': {'id': '54f4390a498e12fe898d2341',\n",
       "       'name': 'Corporate Express Travel',\n",
       "       'location': {'address': '101 Avenue of the Americas Fl 9',\n",
       "        'lat': 40.72242903386563,\n",
       "        'lng': -74.00240421295166,\n",
       "        'labeledLatLngs': [{'label': 'display',\n",
       "          'lat': 40.72242903386563,\n",
       "          'lng': -74.00240421295166}],\n",
       "        'distance': 524,\n",
       "        'postalCode': '10013',\n",
       "        'cc': 'US',\n",
       "        'city': 'New York',\n",
       "        'state': 'NY',\n",
       "        'country': 'United States',\n",
       "        'formattedAddress': ['101 Avenue of the Americas Fl 9',\n",
       "         'New York, NY 10013',\n",
       "         'United States']},\n",
       "       'categories': [{'id': '4f04b08c2fb6e1c99f3db0bd',\n",
       "         'name': 'Travel Agency',\n",
       "         'pluralName': 'Travel Agencies',\n",
       "         'shortName': 'Travel Agency',\n",
       "         'icon': {'prefix': 'https://ss3.4sqi.net/img/categories_v2/travel/travelagency_',\n",
       "          'suffix': '.png'},\n",
       "         'primary': True}],\n",
       "       'photos': {'count': 0, 'groups': []}},\n",
       "      'referralId': 'e-0-54f4390a498e12fe898d2341-0'},\n",
       "     {'reasons': {'count': 0,\n",
       "       'items': [{'summary': 'This spot is popular',\n",
       "         'type': 'general',\n",
       "         'reasonName': 'globalInteractionReason'}]},\n",
       "      'venue': {'id': '574699a0498e5565ce46a48d',\n",
       "       'name': 'Bus Charter Rental',\n",
       "       'location': {'address': '183 Mott St',\n",
       "        'lat': 40.720756,\n",
       "        'lng': -73.99605799999999,\n",
       "        'labeledLatLngs': [{'label': 'display',\n",
       "          'lat': 40.720756,\n",
       "          'lng': -73.99605799999999}],\n",
       "        'distance': 332,\n",
       "        'postalCode': '10012',\n",
       "        'cc': 'US',\n",
       "        'city': 'New York',\n",
       "        'state': 'NY',\n",
       "        'country': 'United States',\n",
       "        'formattedAddress': ['183 Mott St',\n",
       "         'New York, NY 10012',\n",
       "         'United States']},\n",
       "       'categories': [{'id': '54541b70498ea6ccd0204bff',\n",
       "         'name': 'Transportation Service',\n",
       "         'pluralName': 'Transportation Services',\n",
       "         'shortName': 'Transportation Services',\n",
       "         'icon': {'prefix': 'https://ss3.4sqi.net/img/categories_v2/travel/taxi_',\n",
       "          'suffix': '.png'},\n",
       "         'primary': True}],\n",
       "       'photos': {'count': 0, 'groups': []}},\n",
       "      'referralId': 'e-0-574699a0498e5565ce46a48d-1'},\n",
       "     {'reasons': {'count': 0,\n",
       "       'items': [{'summary': 'This spot is popular',\n",
       "         'type': 'general',\n",
       "         'reasonName': 'globalInteractionReason'}]},\n",
       "      'venue': {'id': '4c45e7cc09ba952171fa3e00',\n",
       "       'name': 'PH Helipad',\n",
       "       'location': {'address': '25 5th Ave',\n",
       "        'lat': 40.73291778564453,\n",
       "        'lng': -73.99546813964844,\n",
       "        'labeledLatLngs': [{'label': 'display',\n",
       "          'lat': 40.73291778564453,\n",
       "          'lng': -73.99546813964844}],\n",
       "        'distance': 1025,\n",
       "        'postalCode': '10003',\n",
       "        'cc': 'US',\n",
       "        'city': 'New York',\n",
       "        'state': 'NY',\n",
       "        'country': 'United States',\n",
       "        'formattedAddress': ['25 5th Ave',\n",
       "         'New York, NY 10003',\n",
       "         'United States']},\n",
       "       'categories': [{'id': '4bf58dd8d48988d1eb931735',\n",
       "         'name': 'Airport Terminal',\n",
       "         'pluralName': 'Airport Terminals',\n",
       "         'shortName': 'Terminal',\n",
       "         'icon': {'prefix': 'https://ss3.4sqi.net/img/categories_v2/travel/airport_gate_',\n",
       "          'suffix': '.png'},\n",
       "         'primary': True}],\n",
       "       'photos': {'count': 0, 'groups': []}},\n",
       "      'flags': {'outsideRadius': True},\n",
       "      'referralId': 'e-0-4c45e7cc09ba952171fa3e00-2'}]}]}}"
      ]
     },
     "execution_count": 342,
     "metadata": {},
     "output_type": "execute_result"
    }
   ],
   "source": [
    "data"
   ]
  },
  {
   "cell_type": "code",
   "execution_count": null,
   "metadata": {},
   "outputs": [],
   "source": []
  }
 ],
 "metadata": {
  "kernelspec": {
   "display_name": "Python 3",
   "language": "python",
   "name": "python3"
  },
  "language_info": {
   "codemirror_mode": {
    "name": "ipython",
    "version": 3
   },
   "file_extension": ".py",
   "mimetype": "text/x-python",
   "name": "python",
   "nbconvert_exporter": "python",
   "pygments_lexer": "ipython3",
   "version": "3.8.3"
  }
 },
 "nbformat": 4,
 "nbformat_minor": 4
}
